{
  "nbformat": 4,
  "nbformat_minor": 0,
  "metadata": {
    "colab": {
      "provenance": []
    },
    "kernelspec": {
      "name": "python3",
      "display_name": "Python 3"
    },
    "language_info": {
      "name": "python"
    }
  },
  "cells": [
    {
      "cell_type": "code",
      "execution_count": 16,
      "metadata": {
        "id": "DOv96_ERPMNO"
      },
      "outputs": [],
      "source": [
        "import pandas as pd\n",
        "import numpy as np\n",
        "from sklearn.model_selection import train_test_split\n",
        "from sklearn.tree import DecisionTreeClassifier\n",
        "from sklearn.ensemble import RandomForestClassifier\n",
        "from sklearn.neighbors import KNeighborsClassifier\n",
        "from sklearn.preprocessing import StandardScaler, LabelEncoder\n",
        "from sklearn.metrics import accuracy_score, precision_score, recall_score, f1_score\n",
        "import warnings\n",
        "warnings.filterwarnings('ignore')\n",
        "\n",
        "# Load the dataset\n",
        "df = pd.read_csv(\"/content/drive/MyDrive/Data Set/mental_health_workplace_survey.csv\")\n"
      ]
    },
    {
      "cell_type": "code",
      "source": [
        "# Check for missing values\n",
        "if df.isnull().any().any():\n",
        "    print(\"Warning: Missing values detected. Imputing with median for numerical columns.\")\n",
        "    df.fillna(df.median(numeric_only=True), inplace=True)\n",
        "\n",
        "# Preprocessing\n",
        "# Encode categorical variables\n",
        "categorical_cols = ['Gender', 'Country', 'JobRole', 'Department', 'RemoteWork', 'HasMentalHealthSupport', 'HasTherapyAccess', 'SalaryRange']\n",
        "le_dict = {}\n",
        "for col in categorical_cols:\n",
        "    le = LabelEncoder()\n",
        "    df[col] = le.fit_transform(df[col])\n",
        "    le_dict[col] = le"
      ],
      "metadata": {
        "id": "dGCLy5X3tUOy"
      },
      "execution_count": 9,
      "outputs": []
    },
    {
      "cell_type": "code",
      "source": [
        "# Define features and target\n",
        "X = df.drop(['EmployeeID', 'BurnoutRisk'], axis=1)\n",
        "y = df['BurnoutRisk']\n",
        "\n",
        "# Split data\n",
        "X_train, X_test, y_train, y_test = train_test_split(X, y, test_size=0.2, random_state=42)\n",
        "\n",
        "# Scale numerical features\n",
        "scaler = StandardScaler()\n",
        "X_train_scaled = scaler.fit_transform(X_train)\n",
        "X_test_scaled = scaler.transform(X_test)\n",
        "\n",
        "# Initialize models\n",
        "dt = DecisionTreeClassifier(random_state=42)\n",
        "rf = RandomForestClassifier(random_state=42, n_estimators=100)\n",
        "knn = KNeighborsClassifier(n_neighbors=5)"
      ],
      "metadata": {
        "id": "M5TgxG9CtgWf"
      },
      "execution_count": 10,
      "outputs": []
    },
    {
      "cell_type": "code",
      "source": [
        "# Train and evaluate initial models\n",
        "models = {'Decision Tree': dt, 'Random Forest': rf, 'k-NN': knn}\n",
        "results = []\n",
        "\n",
        "for name, model in models.items():\n",
        "    model.fit(X_train_scaled, y_train)\n",
        "    y_pred = model.predict(X_test_scaled)\n",
        "    results.append({\n",
        "        'Model': name,\n",
        "        'Accuracy': accuracy_score(y_test, y_pred),\n",
        "        'Precision': precision_score(y_test, y_pred, zero_division=0),\n",
        "        'Recall': recall_score(y_test, y_pred, zero_division=0),\n",
        "        'F1-Score': f1_score(y_test, y_pred, zero_division=0)\n",
        "    })\n"
      ],
      "metadata": {
        "id": "_6DZ65jRthzy"
      },
      "execution_count": 11,
      "outputs": []
    },
    {
      "cell_type": "code",
      "source": [
        "# Feature importance using Random Forest\n",
        "rf.fit(X_train_scaled, y_train)\n",
        "importances = rf.feature_importances_\n",
        "feature_importance = pd.DataFrame({'Feature': X.columns, 'Importance': importances})\n",
        "feature_importance = feature_importance.sort_values('Importance', ascending=False)\n",
        "\n",
        "# Print feature importances\n",
        "print(\"\\nFeature Importances:\")\n",
        "print(feature_importance.to_string(index=False))"
      ],
      "metadata": {
        "colab": {
          "base_uri": "https://localhost:8080/"
        },
        "id": "eksDhHNOtl6X",
        "outputId": "f4a85a3b-a6b1-44d1-e3ab-b1aae646a905"
      },
      "execution_count": 12,
      "outputs": [
        {
          "output_type": "stream",
          "name": "stdout",
          "text": [
            "\n",
            "Feature Importances:\n",
            "               Feature  Importance\n",
            "          BurnoutLevel    0.826187\n",
            "     ProductivityScore    0.013076\n",
            "           StressLevel    0.012589\n",
            "     CareerGrowthScore    0.012126\n",
            "   ManagerSupportScore    0.011938\n",
            "   PhysicalActivityHrs    0.011664\n",
            "           CommuteTime    0.011395\n",
            "       JobSatisfaction    0.010861\n",
            "  WorkLifeBalanceScore    0.010691\n",
            "              TeamSize    0.010284\n",
            "            SleepHours    0.010244\n",
            "                   Age    0.008624\n",
            "      WorkHoursPerWeek    0.008028\n",
            "        YearsAtCompany    0.007899\n",
            "               Country    0.005593\n",
            "   MentalHealthDaysOff    0.005592\n",
            "               JobRole    0.005464\n",
            "           SalaryRange    0.004947\n",
            "            Department    0.004447\n",
            "                Gender    0.003291\n",
            "            RemoteWork    0.002477\n",
            "      HasTherapyAccess    0.001417\n",
            "HasMentalHealthSupport    0.001166\n"
          ]
        }
      ]
    },
    {
      "cell_type": "code",
      "source": [
        "# Select top 3 features\n",
        "top_features = feature_importance.head(3)['Feature'].values\n",
        "print(\"\\nTop 3 features:\", top_features)\n",
        "\n",
        "# Retrain models with top 3 features\n",
        "X_train_top3 = X_train[top_features]\n",
        "X_test_top3 = X_test[top_features]\n",
        "\n",
        "# Scale top 3 features\n",
        "X_train_top3_scaled = scaler.fit_transform(X_train_top3)\n",
        "X_test_top3_scaled = scaler.transform(X_test_top3)\n",
        "\n",
        "# Train and evaluate models with top 3 features\n",
        "results_top3 = []\n",
        "for name, model in models.items():\n",
        "    model.fit(X_train_top3_scaled, y_train)\n",
        "    y_pred = model.predict(X_test_top3_scaled)\n",
        "    results_top3.append({\n",
        "        'Model': name + ' (Top 3 Features)',\n",
        "        'Accuracy': accuracy_score(y_test, y_pred),\n",
        "        'Precision': precision_score(y_test, y_pred, zero_division=0),\n",
        "        'Recall': recall_score(y_test, y_pred, zero_division=0),\n",
        "        'F1-Score': f1_score(y_test, y_pred, zero_division=0)\n",
        "    })"
      ],
      "metadata": {
        "colab": {
          "base_uri": "https://localhost:8080/"
        },
        "id": "wSNq_Bdatsm_",
        "outputId": "56fadad3-44ea-43ed-ba42-b9402de7e362"
      },
      "execution_count": 13,
      "outputs": [
        {
          "output_type": "stream",
          "name": "stdout",
          "text": [
            "\n",
            "Top 3 features: ['BurnoutLevel' 'ProductivityScore' 'StressLevel']\n"
          ]
        }
      ]
    },
    {
      "cell_type": "code",
      "source": [
        "# Combine and display results\n",
        "results_df = pd.DataFrame(results + results_top3)\n",
        "if len(results_df) != 6:\n",
        "    print(\"Error: Unexpected number of results in comparison table.\")\n",
        "    exit(1)\n",
        "\n",
        "print(\"\\nModel Comparison (Before vs After Feature Selection):\")\n",
        "print(results_df.to_string(index=False))"
      ],
      "metadata": {
        "colab": {
          "base_uri": "https://localhost:8080/"
        },
        "id": "U66LWTvEtwzQ",
        "outputId": "72d5d1a6-cde9-4a42-c6ea-0bb74f2acfbc"
      },
      "execution_count": 14,
      "outputs": [
        {
          "output_type": "stream",
          "name": "stdout",
          "text": [
            "\n",
            "Model Comparison (Before vs After Feature Selection):\n",
            "                         Model  Accuracy  Precision   Recall  F1-Score\n",
            "                 Decision Tree  1.000000   1.000000 1.000000  1.000000\n",
            "                 Random Forest  1.000000   1.000000 1.000000  1.000000\n",
            "                          k-NN  0.798333   0.770270 0.567164  0.653295\n",
            "Decision Tree (Top 3 Features)  1.000000   1.000000 1.000000  1.000000\n",
            "Random Forest (Top 3 Features)  1.000000   1.000000 1.000000  1.000000\n",
            "         k-NN (Top 3 Features)  0.986667   0.975369 0.985075  0.980198\n"
          ]
        }
      ]
    },
    {
      "cell_type": "code",
      "source": [
        "# Generate summary\n",
        "print(\"\\n=== Summary of Mental Health Workplace Survey Analysis ===\")\n",
        "print(\"Objective: Train and compare Decision Tree, Random Forest, and k-NN classifiers to predict BurnoutRisk, identify the top 3 features using Random Forest feature importance, and compare model performance before and after feature selection.\")\n",
        "print(\"\\nTasks Performed:\")\n",
        "print(\"- Preprocessed data: Encoded categorical variables, scaled numerical features, and split data into 80% training and 20% testing sets.\")\n",
        "print(\"- Trained initial models (Decision Tree, Random Forest, k-NN) on all features and evaluated using accuracy, precision, recall, and F1-score.\")\n",
        "print(\"- Identified top 3 features using Random Forest feature importance.\")\n",
        "print(\"- Retrained models using only the top 3 features and evaluated performance.\")\n",
        "print(f\"\\nTop 3 Features Identified: {', '.join(top_features)}\")\n",
        "print(\"\\nKey Performance Observations:\")\n",
        "for model in models.keys():\n",
        "    before = results_df[results_df['Model'] == model].iloc[0]\n",
        "    after = results_df[results_df['Model'] == model + ' (Top 3 Features)'].iloc[0]\n",
        "    acc_diff = after['Accuracy'] - before['Accuracy']\n",
        "    f1_diff = after['F1-Score'] - before['F1-Score']\n",
        "    print(f\"- {model}:\")\n",
        "    print(f\"  - Accuracy {'improved' if acc_diff > 0 else 'decreased'} by {abs(acc_diff):.4f} (All Features: {before['Accuracy']:.4f}, Top 3 Features: {after['Accuracy']:.4f})\")\n",
        "    print(f\"  - F1-Score {'improved' if f1_diff > 0 else 'decreased'} by {abs(f1_diff):.4f} (All Features: {before['F1-Score']:.4f}, Top 3 Features: {after['F1-Score']:.4f})\")\n",
        "print(\"\\nResults saved to 'model_comparison_results.csv' for detailed comparison.\")\n",
        "print(\"==================================================\")"
      ],
      "metadata": {
        "colab": {
          "base_uri": "https://localhost:8080/"
        },
        "id": "CgPbpoRbt6mQ",
        "outputId": "a81c08a6-76ff-4900-830e-14c2eae41b5e"
      },
      "execution_count": 15,
      "outputs": [
        {
          "output_type": "stream",
          "name": "stdout",
          "text": [
            "\n",
            "=== Summary of Mental Health Workplace Survey Analysis ===\n",
            "Objective: Train and compare Decision Tree, Random Forest, and k-NN classifiers to predict BurnoutRisk, identify the top 3 features using Random Forest feature importance, and compare model performance before and after feature selection.\n",
            "\n",
            "Tasks Performed:\n",
            "- Preprocessed data: Encoded categorical variables, scaled numerical features, and split data into 80% training and 20% testing sets.\n",
            "- Trained initial models (Decision Tree, Random Forest, k-NN) on all features and evaluated using accuracy, precision, recall, and F1-score.\n",
            "- Identified top 3 features using Random Forest feature importance.\n",
            "- Retrained models using only the top 3 features and evaluated performance.\n",
            "\n",
            "Top 3 Features Identified: BurnoutLevel, ProductivityScore, StressLevel\n",
            "\n",
            "Key Performance Observations:\n",
            "- Decision Tree:\n",
            "  - Accuracy decreased by 0.0000 (All Features: 1.0000, Top 3 Features: 1.0000)\n",
            "  - F1-Score decreased by 0.0000 (All Features: 1.0000, Top 3 Features: 1.0000)\n",
            "- Random Forest:\n",
            "  - Accuracy decreased by 0.0000 (All Features: 1.0000, Top 3 Features: 1.0000)\n",
            "  - F1-Score decreased by 0.0000 (All Features: 1.0000, Top 3 Features: 1.0000)\n",
            "- k-NN:\n",
            "  - Accuracy improved by 0.1883 (All Features: 0.7983, Top 3 Features: 0.9867)\n",
            "  - F1-Score improved by 0.3269 (All Features: 0.6533, Top 3 Features: 0.9802)\n",
            "\n",
            "Results saved to 'model_comparison_results.csv' for detailed comparison.\n",
            "==================================================\n"
          ]
        }
      ]
    }
  ]
}